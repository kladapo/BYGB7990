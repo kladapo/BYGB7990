{
 "cells": [
  {
   "cell_type": "markdown",
   "metadata": {},
   "source": [
    "# <font color = green> Deloitte March Data Crunch Madness 2021"
   ]
  },
  {
   "cell_type": "markdown",
   "metadata": {},
   "source": [
    "## <font color = black> Team: Alpha Titans\n",
    "Members: Kolade Ladapo, Urvesh Bhadani, Ziqi Wang "
   ]
  },
  {
   "cell_type": "markdown",
   "metadata": {},
   "source": [
    "<img  \n",
    "src=\"https://www.fordham.edu/images/gsb_ms_programs.jpg\" style=\"width:400px;height:250px\">"
   ]
  },
  {
   "cell_type": "markdown",
   "metadata": {},
   "source": [
    "### <font color = grey> The following notebook is a model for determining winners of various matchups in the 2021 NCAA Mens March Madness Basketball Tournament\n",
    "    "
   ]
  },
  {
   "cell_type": "markdown",
   "metadata": {},
   "source": [
    "## <font color = green> Logistic Regression Model:"
   ]
  },
  {
   "cell_type": "code",
   "execution_count": 2,
   "metadata": {},
   "outputs": [],
   "source": [
    "######################################################################\n",
    "#importing required python packages to build logistic regression model\n",
    "######################################################################\n",
    "\n",
    "import matplotlib.pyplot as plt\n",
    "plt.style.use('ggplot')\n",
    "\n",
    "from math import sin, cos, sqrt, atan2, radians\n",
    "import numpy as np\n",
    "import pandas as pd\n",
    "import random\n",
    "from sklearn.linear_model import LogisticRegression\n",
    "from sklearn.metrics import (auc, classification_report, roc_auc_score, accuracy_score,\n",
    "                             f1_score, log_loss, roc_curve, confusion_matrix, precision_score, recall_score)\n",
    "from sklearn.preprocessing import StandardScaler\n",
    "import statsmodels.api as sm"
   ]
  },
  {
   "cell_type": "code",
   "execution_count": 3,
   "metadata": {},
   "outputs": [],
   "source": [
    "################################################################################\n",
    "# defining a user function for distance calculations based on latitude/longitude\n",
    "################################################################################\n",
    "\n",
    "def distance(lat1, lon1, lat2, lon2):\n",
    "\n",
    "    # approximate radius of earth in km\n",
    "    R = 6373.0\n",
    "\n",
    "    lat1 = radians(lat1)\n",
    "    lon1 = radians(lon1)\n",
    "    lat2 = radians(lat2)\n",
    "    lon2 = radians(lon2)\n",
    "\n",
    "    dlon = lon2 - lon1\n",
    "    dlat = lat2 - lat1\n",
    "\n",
    "    a = sin(dlat / 2)**2 + cos(lat1) * cos(lat2) * sin(dlon / 2)**2\n",
    "    c = 2 * atan2(sqrt(a), sqrt(1 - a))\n",
    "\n",
    "    distance = R * c\n",
    "    \n",
    "    return distance"
   ]
  },
  {
   "cell_type": "code",
   "execution_count": 4,
   "metadata": {},
   "outputs": [
    {
     "name": "stdout",
     "output_type": "stream",
     "text": [
      "The shape of the dataset is as follows:  \n",
      " (1167, 104)\n",
      "\n",
      " Summary of missing values by predictor column:  \n",
      " team1_id       0\n",
      "team1_score    0\n",
      "team2_id       0\n",
      "team2_score    0\n",
      "WLoc           0\n",
      "              ..\n",
      "team2_oe       0\n",
      "team2_adjoe    0\n",
      "team2_de       0\n",
      "team2_adjde    0\n",
      "game_id        0\n",
      "Length: 104, dtype: int64\n"
     ]
    }
   ],
   "source": [
    "###########################################\n",
    "# Importing & Assigning dataset to variable\n",
    "###########################################\n",
    "\n",
    "mm_data = pd.read_csv('NCAA_Tourney_2002_2019_update.csv')\n",
    "\n",
    "#####################\n",
    "# Checking data shape\n",
    "#####################\n",
    "print(\"The shape of the dataset is as follows: \",'\\n', mm_data.shape)\n",
    "\n",
    "#############################\n",
    "# Checking for missing values\n",
    "#############################\n",
    "print('\\n',\"Summary of missing values by predictor column: \",'\\n', mm_data.isnull().sum())"
   ]
  },
  {
   "cell_type": "code",
   "execution_count": 5,
   "metadata": {},
   "outputs": [
    {
     "data": {
      "text/plain": [
       "['team1_id',\n",
       " 'team1_score',\n",
       " 'team2_id',\n",
       " 'team2_score',\n",
       " 'WLoc',\n",
       " 'num_ot',\n",
       " 'team1_position',\n",
       " 'team2_position',\n",
       " 'team1_seed',\n",
       " 'team2_seed',\n",
       " 'strongseed',\n",
       " 'weakseed',\n",
       " 'team1_region',\n",
       " 'team2_region',\n",
       " 'slot',\n",
       " 'team1_teamname',\n",
       " 'team2_teamname',\n",
       " 'season',\n",
       " 'host',\n",
       " 'host_lat',\n",
       " 'host_long',\n",
       " 'team1_lat',\n",
       " 'team1_long',\n",
       " 'team2_lat',\n",
       " 'team2_long',\n",
       " 'team1_coach_id',\n",
       " 'team1_pt_school_ncaa',\n",
       " 'team1_pt_overall_ncaa',\n",
       " 'team1_pt_school_s16',\n",
       " 'team1_pt_overall_s16',\n",
       " 'team1_pt_school_ff',\n",
       " 'team1_pt_overall_ff',\n",
       " 'team1_pt_career_school_wins',\n",
       " 'team1_pt_career_school_losses',\n",
       " 'team1_pt_career_overall_wins',\n",
       " 'team1_pt_career_overall_losses',\n",
       " 'team1_pt_team_season_wins',\n",
       " 'team1_pt_team_season_losses',\n",
       " 'team1_pt_coach_season_wins',\n",
       " 'team1_pt_coach_season_losses',\n",
       " 'team2_coach_id',\n",
       " 'team2_pt_school_ncaa',\n",
       " 'team2_pt_overall_ncaa',\n",
       " 'team2_pt_school_s16',\n",
       " 'team2_pt_overall_s16',\n",
       " 'team2_pt_school_ff',\n",
       " 'team2_pt_overall_ff',\n",
       " 'team2_pt_career_school_wins',\n",
       " 'team2_pt_career_school_losses',\n",
       " 'team2_pt_career_overall_wins',\n",
       " 'team2_pt_career_overall_losses',\n",
       " 'team2_pt_team_season_wins',\n",
       " 'team2_pt_team_season_losses',\n",
       " 'team2_pt_coach_season_wins',\n",
       " 'team2_pt_coach_season_losses',\n",
       " 'team1_ap_final',\n",
       " 'team1_ap_preseason',\n",
       " 'team1_coaches_before_final',\n",
       " 'team1_coaches_preseason',\n",
       " 'team2_ap_final',\n",
       " 'team2_ap_preseason',\n",
       " 'team2_coaches_before_final',\n",
       " 'team2_coaches_preseason',\n",
       " 'team1_fg2pct',\n",
       " 'team1_fg3pct',\n",
       " 'team1_ftpct',\n",
       " 'team1_blockpct',\n",
       " 'team1_oppfg2pct',\n",
       " 'team1_oppfg3pct',\n",
       " 'team1_oppftpct',\n",
       " 'team1_oppblockpct',\n",
       " 'team1_f3grate',\n",
       " 'team1_oppf3grate',\n",
       " 'team1_arate',\n",
       " 'team1_opparate',\n",
       " 'team1_stlrate',\n",
       " 'team1_oppstlrate',\n",
       " 'team2_fg2pct',\n",
       " 'team2_fg3pct',\n",
       " 'team2_ftpct',\n",
       " 'team2_blockpct',\n",
       " 'team2_oppfg2pct',\n",
       " 'team2_oppfg3pct',\n",
       " 'team2_oppftpct',\n",
       " 'team2_oppblockpct',\n",
       " 'team2_f3grate',\n",
       " 'team2_oppf3grate',\n",
       " 'team2_arate',\n",
       " 'team2_opparate',\n",
       " 'team2_stlrate',\n",
       " 'team2_oppstlrate',\n",
       " 'team1_tempo',\n",
       " 'team1_adjtempo',\n",
       " 'team1_oe',\n",
       " 'team1_adjoe',\n",
       " 'team1_de',\n",
       " 'team1_adjde',\n",
       " 'team2_tempo',\n",
       " 'team2_adjtempo',\n",
       " 'team2_oe',\n",
       " 'team2_adjoe',\n",
       " 'team2_de',\n",
       " 'team2_adjde',\n",
       " 'game_id']"
      ]
     },
     "execution_count": 5,
     "metadata": {},
     "output_type": "execute_result"
    }
   ],
   "source": [
    "#########################################\n",
    "# Assigning column names to an empty list\n",
    "#########################################\n",
    "mm_data.columns.tolist()"
   ]
  },
  {
   "cell_type": "markdown",
   "metadata": {},
   "source": [
    "### <font color = teal> Team Distance Calculation:"
   ]
  },
  {
   "cell_type": "code",
   "execution_count": 6,
   "metadata": {},
   "outputs": [],
   "source": [
    "########################################################################\n",
    "# Calculating team distance (during the match) from team's home location\n",
    "########################################################################\n",
    "\n",
    "#Determining distance, by assigning lat/long of location 1 to \"distance 1\"\n",
    "mm_data['dist1'] = mm_data.apply(lambda row: distance(row['host_lat'], row['host_long'], row['team1_lat'], row['team1_long']), axis=1)\n",
    "\n",
    "#Determining distance, by assigning lat/long of location 2 to \"distance 2\"\n",
    "mm_data['dist2'] = mm_data.apply(lambda row: distance(row['host_lat'], row['host_long'], row['team2_lat'], row['team2_long']), axis=1)\n",
    "\n",
    "#Calculating distance between locations & assinging to variable\n",
    "mm_data['diff_dist'] = mm_data['dist1'] - mm_data['dist2']"
   ]
  },
  {
   "cell_type": "markdown",
   "metadata": {},
   "source": [
    "### <font color = teal> Pythagorean Expectation Calculation:"
   ]
  },
  {
   "cell_type": "markdown",
   "metadata": {},
   "source": [
    "#### <font color = grey> Pythagorean Expectation uses a team's points scored and points allowed to estimate how many games the team should have won and lost to date. Effectively, and estimate of where a team's win percantage should be based on points (scored/allowed) alone.  \n",
    "    \n",
    "    E(W%) = points scored^11.5 / (points scored^11.5+points allowed^11.5"
   ]
  },
  {
   "cell_type": "code",
   "execution_count": 7,
   "metadata": {},
   "outputs": [],
   "source": [
    "####################################################################################\n",
    "# Calculating expected win percantage of each team using Pythag expectation equation\n",
    "# Uses offensive efficiency (adjoe) and defensive efficiency (adjde) which is points\n",
    "# scored or allowed per 100 possesions against an average defense/offense\n",
    "####################################################################################\n",
    "\n",
    "#Assigning expected win percantage per team to variables\n",
    "mm_data['exp_win1'] = (mm_data['team1_adjoe']**11.5)/ ((mm_data['team1_adjde']**11.5)+(mm_data['team1_adjoe']**11.5))\n",
    "mm_data['exp_win2'] = (mm_data['team2_adjoe']**11.5)/ ((mm_data['team2_adjde']**11.5)+(mm_data['team2_adjoe']**11.5))"
   ]
  },
  {
   "cell_type": "markdown",
   "metadata": {},
   "source": [
    "### <font color = teal> Log 5 Calculation:"
   ]
  },
  {
   "cell_type": "markdown",
   "metadata": {},
   "source": [
    "#### <font color = grey> The Log 5 formula was invented by Bill James to estimate the probability that team A will win a game. The equation is based on the true winning percentage of Team A and Team B. \n",
    "    \n",
    "    P(W) = (A - A B) / (A + B - 2A*B)"
   ]
  },
  {
   "cell_type": "code",
   "execution_count": 8,
   "metadata": {},
   "outputs": [],
   "source": [
    "#####################################################################################\n",
    "# Using above calulated true win percantage of each team (assigned to exp_win1(2)) to \n",
    "# calculate team Log 5 value\n",
    "#####################################################################################\n",
    "\n",
    "mm_data['team1_log5'] = (mm_data['exp_win1'] - (mm_data['exp_win1']*mm_data['exp_win2']))/ (mm_data['exp_win1']+mm_data['exp_win2']-(2*mm_data['exp_win1']*mm_data['exp_win2']))"
   ]
  },
  {
   "cell_type": "code",
   "execution_count": 9,
   "metadata": {},
   "outputs": [
    {
     "data": {
      "text/html": [
       "<div>\n",
       "<style scoped>\n",
       "    .dataframe tbody tr th:only-of-type {\n",
       "        vertical-align: middle;\n",
       "    }\n",
       "\n",
       "    .dataframe tbody tr th {\n",
       "        vertical-align: top;\n",
       "    }\n",
       "\n",
       "    .dataframe thead th {\n",
       "        text-align: right;\n",
       "    }\n",
       "</style>\n",
       "<table border=\"1\" class=\"dataframe\">\n",
       "  <thead>\n",
       "    <tr style=\"text-align: right;\">\n",
       "      <th></th>\n",
       "      <th>team1_adjoe</th>\n",
       "      <th>team1_teamname</th>\n",
       "      <th>season</th>\n",
       "      <th>team2_teamname</th>\n",
       "      <th>team1_adjde</th>\n",
       "      <th>exp_win1</th>\n",
       "      <th>exp_win2</th>\n",
       "      <th>team1_log5</th>\n",
       "    </tr>\n",
       "  </thead>\n",
       "  <tbody>\n",
       "    <tr>\n",
       "      <th>0</th>\n",
       "      <td>106.296</td>\n",
       "      <td>F Dickinson</td>\n",
       "      <td>2019</td>\n",
       "      <td>Prairie View</td>\n",
       "      <td>110.5500</td>\n",
       "      <td>0.389061</td>\n",
       "      <td>0.382990</td>\n",
       "      <td>0.506403</td>\n",
       "    </tr>\n",
       "    <tr>\n",
       "      <th>1</th>\n",
       "      <td>114.952</td>\n",
       "      <td>Belmont</td>\n",
       "      <td>2019</td>\n",
       "      <td>Temple</td>\n",
       "      <td>101.8860</td>\n",
       "      <td>0.800207</td>\n",
       "      <td>0.738939</td>\n",
       "      <td>0.585922</td>\n",
       "    </tr>\n",
       "    <tr>\n",
       "      <th>2</th>\n",
       "      <td>106.675</td>\n",
       "      <td>N Dakota St</td>\n",
       "      <td>2019</td>\n",
       "      <td>NC Central</td>\n",
       "      <td>109.8730</td>\n",
       "      <td>0.415885</td>\n",
       "      <td>0.208404</td>\n",
       "      <td>0.730051</td>\n",
       "    </tr>\n",
       "    <tr>\n",
       "      <th>3</th>\n",
       "      <td>109.886</td>\n",
       "      <td>Arizona St</td>\n",
       "      <td>2019</td>\n",
       "      <td>St John's</td>\n",
       "      <td>98.6844</td>\n",
       "      <td>0.774944</td>\n",
       "      <td>0.721882</td>\n",
       "      <td>0.570190</td>\n",
       "    </tr>\n",
       "    <tr>\n",
       "      <th>4</th>\n",
       "      <td>110.803</td>\n",
       "      <td>Minnesota</td>\n",
       "      <td>2019</td>\n",
       "      <td>Louisville</td>\n",
       "      <td>96.3335</td>\n",
       "      <td>0.833312</td>\n",
       "      <td>0.913200</td>\n",
       "      <td>0.322116</td>\n",
       "    </tr>\n",
       "    <tr>\n",
       "      <th>5</th>\n",
       "      <td>118.620</td>\n",
       "      <td>LSU</td>\n",
       "      <td>2019</td>\n",
       "      <td>Yale</td>\n",
       "      <td>97.6208</td>\n",
       "      <td>0.903836</td>\n",
       "      <td>0.709816</td>\n",
       "      <td>0.793493</td>\n",
       "    </tr>\n",
       "    <tr>\n",
       "      <th>6</th>\n",
       "      <td>119.283</td>\n",
       "      <td>Auburn</td>\n",
       "      <td>2019</td>\n",
       "      <td>New Mexico St</td>\n",
       "      <td>97.1706</td>\n",
       "      <td>0.913556</td>\n",
       "      <td>0.814356</td>\n",
       "      <td>0.706674</td>\n",
       "    </tr>\n",
       "    <tr>\n",
       "      <th>7</th>\n",
       "      <td>117.095</td>\n",
       "      <td>Villanova</td>\n",
       "      <td>2019</td>\n",
       "      <td>St Mary's CA</td>\n",
       "      <td>98.3195</td>\n",
       "      <td>0.881820</td>\n",
       "      <td>0.873304</td>\n",
       "      <td>0.519810</td>\n",
       "    </tr>\n",
       "    <tr>\n",
       "      <th>8</th>\n",
       "      <td>110.318</td>\n",
       "      <td>Florida</td>\n",
       "      <td>2019</td>\n",
       "      <td>Nevada</td>\n",
       "      <td>91.9997</td>\n",
       "      <td>0.889750</td>\n",
       "      <td>0.889494</td>\n",
       "      <td>0.500651</td>\n",
       "    </tr>\n",
       "    <tr>\n",
       "      <th>9</th>\n",
       "      <td>118.483</td>\n",
       "      <td>Wofford</td>\n",
       "      <td>2019</td>\n",
       "      <td>Seton Hall</td>\n",
       "      <td>97.7629</td>\n",
       "      <td>0.901196</td>\n",
       "      <td>0.808811</td>\n",
       "      <td>0.683148</td>\n",
       "    </tr>\n",
       "  </tbody>\n",
       "</table>\n",
       "</div>"
      ],
      "text/plain": [
       "   team1_adjoe team1_teamname  season team2_teamname  team1_adjde  exp_win1  \\\n",
       "0      106.296    F Dickinson    2019   Prairie View     110.5500  0.389061   \n",
       "1      114.952        Belmont    2019         Temple     101.8860  0.800207   \n",
       "2      106.675    N Dakota St    2019     NC Central     109.8730  0.415885   \n",
       "3      109.886     Arizona St    2019      St John's      98.6844  0.774944   \n",
       "4      110.803      Minnesota    2019     Louisville      96.3335  0.833312   \n",
       "5      118.620            LSU    2019           Yale      97.6208  0.903836   \n",
       "6      119.283         Auburn    2019  New Mexico St      97.1706  0.913556   \n",
       "7      117.095      Villanova    2019   St Mary's CA      98.3195  0.881820   \n",
       "8      110.318        Florida    2019         Nevada      91.9997  0.889750   \n",
       "9      118.483        Wofford    2019     Seton Hall      97.7629  0.901196   \n",
       "\n",
       "   exp_win2  team1_log5  \n",
       "0  0.382990    0.506403  \n",
       "1  0.738939    0.585922  \n",
       "2  0.208404    0.730051  \n",
       "3  0.721882    0.570190  \n",
       "4  0.913200    0.322116  \n",
       "5  0.709816    0.793493  \n",
       "6  0.814356    0.706674  \n",
       "7  0.873304    0.519810  \n",
       "8  0.889494    0.500651  \n",
       "9  0.808811    0.683148  "
      ]
     },
     "execution_count": 9,
     "metadata": {},
     "output_type": "execute_result"
    }
   ],
   "source": [
    "###############################################################################\n",
    "# Viewing head preview of dataset (with relevant columns) to display calculated\n",
    "# team_1 Log 5 values\n",
    "###############################################################################\n",
    "\n",
    "#Viewing top 10 rows\n",
    "mm_data[['team1_adjoe','team1_teamname','season','team2_teamname','team1_adjde','exp_win1','exp_win2','team1_log5']].head(10)"
   ]
  },
  {
   "cell_type": "markdown",
   "metadata": {},
   "source": [
    "### <font color = teal> Team Tournament Seeding Difference Calculation:"
   ]
  },
  {
   "cell_type": "markdown",
   "metadata": {},
   "source": [
    "#### <font color = grey> Each Team in the tournament is assigned a seed (1-16) based on performance expectations in the tournament. The lower the seed, the greated expected level of success. Thus deterimining difference is seed value is pertinent to predicting matchup results. "
   ]
  },
  {
   "cell_type": "code",
   "execution_count": 10,
   "metadata": {},
   "outputs": [],
   "source": [
    "############################################\n",
    "# Assigning & calculating difference in seed\n",
    "############################################\n",
    "\n",
    "mm_data['seed_diff'] = mm_data['team1_seed'] - mm_data['team2_seed']"
   ]
  },
  {
   "cell_type": "code",
   "execution_count": 11,
   "metadata": {},
   "outputs": [
    {
     "data": {
      "text/html": [
       "<div>\n",
       "<style scoped>\n",
       "    .dataframe tbody tr th:only-of-type {\n",
       "        vertical-align: middle;\n",
       "    }\n",
       "\n",
       "    .dataframe tbody tr th {\n",
       "        vertical-align: top;\n",
       "    }\n",
       "\n",
       "    .dataframe thead th {\n",
       "        text-align: right;\n",
       "    }\n",
       "</style>\n",
       "<table border=\"1\" class=\"dataframe\">\n",
       "  <thead>\n",
       "    <tr style=\"text-align: right;\">\n",
       "      <th></th>\n",
       "      <th>game_id</th>\n",
       "      <th>exp_win1</th>\n",
       "      <th>exp_win2</th>\n",
       "      <th>team2_score</th>\n",
       "      <th>team1_score</th>\n",
       "      <th>diff_dist</th>\n",
       "      <th>team1_log5</th>\n",
       "      <th>team1_id</th>\n",
       "      <th>team2_id</th>\n",
       "      <th>seed_diff</th>\n",
       "    </tr>\n",
       "  </thead>\n",
       "  <tbody>\n",
       "    <tr>\n",
       "      <th>0</th>\n",
       "      <td>2019-1192.0-1341.0</td>\n",
       "      <td>0.389061</td>\n",
       "      <td>0.382990</td>\n",
       "      <td>76</td>\n",
       "      <td>82</td>\n",
       "      <td>-648.033425</td>\n",
       "      <td>0.506403</td>\n",
       "      <td>1192.0</td>\n",
       "      <td>1341.0</td>\n",
       "      <td>0</td>\n",
       "    </tr>\n",
       "    <tr>\n",
       "      <th>1</th>\n",
       "      <td>2019-1125.0-1396.0</td>\n",
       "      <td>0.800207</td>\n",
       "      <td>0.738939</td>\n",
       "      <td>70</td>\n",
       "      <td>81</td>\n",
       "      <td>-307.876634</td>\n",
       "      <td>0.585922</td>\n",
       "      <td>1125.0</td>\n",
       "      <td>1396.0</td>\n",
       "      <td>0</td>\n",
       "    </tr>\n",
       "    <tr>\n",
       "      <th>2</th>\n",
       "      <td>2019-1295.0-1300.0</td>\n",
       "      <td>0.415885</td>\n",
       "      <td>0.208404</td>\n",
       "      <td>74</td>\n",
       "      <td>78</td>\n",
       "      <td>663.316546</td>\n",
       "      <td>0.730051</td>\n",
       "      <td>1295.0</td>\n",
       "      <td>1300.0</td>\n",
       "      <td>0</td>\n",
       "    </tr>\n",
       "    <tr>\n",
       "      <th>3</th>\n",
       "      <td>2019-1113.0-1385.0</td>\n",
       "      <td>0.774944</td>\n",
       "      <td>0.721882</td>\n",
       "      <td>65</td>\n",
       "      <td>74</td>\n",
       "      <td>1676.167033</td>\n",
       "      <td>0.570190</td>\n",
       "      <td>1113.0</td>\n",
       "      <td>1385.0</td>\n",
       "      <td>0</td>\n",
       "    </tr>\n",
       "    <tr>\n",
       "      <th>4</th>\n",
       "      <td>2019-1278.0-1257.0</td>\n",
       "      <td>0.833312</td>\n",
       "      <td>0.913200</td>\n",
       "      <td>76</td>\n",
       "      <td>86</td>\n",
       "      <td>-391.001293</td>\n",
       "      <td>0.322116</td>\n",
       "      <td>1278.0</td>\n",
       "      <td>1257.0</td>\n",
       "      <td>3</td>\n",
       "    </tr>\n",
       "  </tbody>\n",
       "</table>\n",
       "</div>"
      ],
      "text/plain": [
       "              game_id  exp_win1  exp_win2  team2_score  team1_score  \\\n",
       "0  2019-1192.0-1341.0  0.389061  0.382990           76           82   \n",
       "1  2019-1125.0-1396.0  0.800207  0.738939           70           81   \n",
       "2  2019-1295.0-1300.0  0.415885  0.208404           74           78   \n",
       "3  2019-1113.0-1385.0  0.774944  0.721882           65           74   \n",
       "4  2019-1278.0-1257.0  0.833312  0.913200           76           86   \n",
       "\n",
       "     diff_dist  team1_log5  team1_id  team2_id  seed_diff  \n",
       "0  -648.033425    0.506403    1192.0    1341.0          0  \n",
       "1  -307.876634    0.585922    1125.0    1396.0          0  \n",
       "2   663.316546    0.730051    1295.0    1300.0          0  \n",
       "3  1676.167033    0.570190    1113.0    1385.0          0  \n",
       "4  -391.001293    0.322116    1278.0    1257.0          3  "
      ]
     },
     "execution_count": 11,
     "metadata": {},
     "output_type": "execute_result"
    }
   ],
   "source": [
    "#################################################################################\n",
    "#Displaying another head of relevant data to include previous matchup team scores \n",
    "#& newly calculated seeding difference\n",
    "#################################################################################\n",
    "mm_data[['game_id','exp_win1','exp_win2','team2_score','team1_score','diff_dist','team1_log5','team1_id','team2_id','seed_diff']].head()"
   ]
  },
  {
   "cell_type": "markdown",
   "metadata": {},
   "source": [
    "### <font color = teal> Team Season Win Difference Calculation: "
   ]
  },
  {
   "cell_type": "markdown",
   "metadata": {},
   "source": [
    "#### <font color = grey> Tournmaent seeding often accounts for how successful a team's season performance was. However, even teams with the same or similar seeding may have a significant difference in their number of season wins. Thus season wins may still be a relevant predictor. "
   ]
  },
  {
   "cell_type": "code",
   "execution_count": 12,
   "metadata": {},
   "outputs": [],
   "source": [
    "#############################################################\n",
    "# Assigning & calculating difference in number of season wins\n",
    "#############################################################\n",
    "\n",
    "mm_data['team_win_diff'] = mm_data['team1_pt_team_season_wins'] - mm_data['team2_pt_team_season_wins']"
   ]
  },
  {
   "cell_type": "code",
   "execution_count": 13,
   "metadata": {},
   "outputs": [
    {
     "data": {
      "text/html": [
       "<div>\n",
       "<style scoped>\n",
       "    .dataframe tbody tr th:only-of-type {\n",
       "        vertical-align: middle;\n",
       "    }\n",
       "\n",
       "    .dataframe tbody tr th {\n",
       "        vertical-align: top;\n",
       "    }\n",
       "\n",
       "    .dataframe thead th {\n",
       "        text-align: right;\n",
       "    }\n",
       "</style>\n",
       "<table border=\"1\" class=\"dataframe\">\n",
       "  <thead>\n",
       "    <tr style=\"text-align: right;\">\n",
       "      <th></th>\n",
       "      <th>game_id</th>\n",
       "      <th>exp_win1</th>\n",
       "      <th>exp_win2</th>\n",
       "      <th>team2_score</th>\n",
       "      <th>team1_score</th>\n",
       "      <th>diff_dist</th>\n",
       "      <th>team1_log5</th>\n",
       "      <th>team1_id</th>\n",
       "      <th>team2_id</th>\n",
       "      <th>seed_diff</th>\n",
       "      <th>team_win_diff</th>\n",
       "    </tr>\n",
       "  </thead>\n",
       "  <tbody>\n",
       "    <tr>\n",
       "      <th>0</th>\n",
       "      <td>2019-1192.0-1341.0</td>\n",
       "      <td>0.389061</td>\n",
       "      <td>0.382990</td>\n",
       "      <td>76</td>\n",
       "      <td>82</td>\n",
       "      <td>-648.033425</td>\n",
       "      <td>0.506403</td>\n",
       "      <td>1192.0</td>\n",
       "      <td>1341.0</td>\n",
       "      <td>0</td>\n",
       "      <td>-1.0</td>\n",
       "    </tr>\n",
       "    <tr>\n",
       "      <th>1</th>\n",
       "      <td>2019-1125.0-1396.0</td>\n",
       "      <td>0.800207</td>\n",
       "      <td>0.738939</td>\n",
       "      <td>70</td>\n",
       "      <td>81</td>\n",
       "      <td>-307.876634</td>\n",
       "      <td>0.585922</td>\n",
       "      <td>1125.0</td>\n",
       "      <td>1396.0</td>\n",
       "      <td>0</td>\n",
       "      <td>4.0</td>\n",
       "    </tr>\n",
       "    <tr>\n",
       "      <th>2</th>\n",
       "      <td>2019-1295.0-1300.0</td>\n",
       "      <td>0.415885</td>\n",
       "      <td>0.208404</td>\n",
       "      <td>74</td>\n",
       "      <td>78</td>\n",
       "      <td>663.316546</td>\n",
       "      <td>0.730051</td>\n",
       "      <td>1295.0</td>\n",
       "      <td>1300.0</td>\n",
       "      <td>0</td>\n",
       "      <td>1.0</td>\n",
       "    </tr>\n",
       "    <tr>\n",
       "      <th>3</th>\n",
       "      <td>2019-1113.0-1385.0</td>\n",
       "      <td>0.774944</td>\n",
       "      <td>0.721882</td>\n",
       "      <td>65</td>\n",
       "      <td>74</td>\n",
       "      <td>1676.167033</td>\n",
       "      <td>0.570190</td>\n",
       "      <td>1113.0</td>\n",
       "      <td>1385.0</td>\n",
       "      <td>0</td>\n",
       "      <td>2.0</td>\n",
       "    </tr>\n",
       "    <tr>\n",
       "      <th>4</th>\n",
       "      <td>2019-1278.0-1257.0</td>\n",
       "      <td>0.833312</td>\n",
       "      <td>0.913200</td>\n",
       "      <td>76</td>\n",
       "      <td>86</td>\n",
       "      <td>-391.001293</td>\n",
       "      <td>0.322116</td>\n",
       "      <td>1278.0</td>\n",
       "      <td>1257.0</td>\n",
       "      <td>3</td>\n",
       "      <td>1.0</td>\n",
       "    </tr>\n",
       "  </tbody>\n",
       "</table>\n",
       "</div>"
      ],
      "text/plain": [
       "              game_id  exp_win1  exp_win2  team2_score  team1_score  \\\n",
       "0  2019-1192.0-1341.0  0.389061  0.382990           76           82   \n",
       "1  2019-1125.0-1396.0  0.800207  0.738939           70           81   \n",
       "2  2019-1295.0-1300.0  0.415885  0.208404           74           78   \n",
       "3  2019-1113.0-1385.0  0.774944  0.721882           65           74   \n",
       "4  2019-1278.0-1257.0  0.833312  0.913200           76           86   \n",
       "\n",
       "     diff_dist  team1_log5  team1_id  team2_id  seed_diff  team_win_diff  \n",
       "0  -648.033425    0.506403    1192.0    1341.0          0           -1.0  \n",
       "1  -307.876634    0.585922    1125.0    1396.0          0            4.0  \n",
       "2   663.316546    0.730051    1295.0    1300.0          0            1.0  \n",
       "3  1676.167033    0.570190    1113.0    1385.0          0            2.0  \n",
       "4  -391.001293    0.322116    1278.0    1257.0          3            1.0  "
      ]
     },
     "execution_count": 13,
     "metadata": {},
     "output_type": "execute_result"
    }
   ],
   "source": [
    "#################################################################################\n",
    "#Displaying another head of relevant data to include previous matchup team scores \n",
    "# seeding difference & newly calculated team win difference\n",
    "#################################################################################\n",
    "mm_data[['game_id','exp_win1','exp_win2','team2_score','team1_score','diff_dist','team1_log5','team1_id','team2_id','seed_diff', 'team_win_diff']].head()"
   ]
  },
  {
   "cell_type": "markdown",
   "metadata": {},
   "source": [
    "### <font color = teal> Coach Career Wins at Current School Difference Calculation: "
   ]
  },
  {
   "cell_type": "markdown",
   "metadata": {},
   "source": [
    "#### <font color = grey> Tournmaent seeding often accounts for how successful a team's season performance was. However, even teams with the same or similar seeding may have a significant difference in their number of season wins. Thus season wins may still be a relevant predictor. "
   ]
  },
  {
   "cell_type": "code",
   "execution_count": 44,
   "metadata": {},
   "outputs": [],
   "source": [
    "###################################################################\n",
    "# Assigning & calculating difference in coach career wins with team\n",
    "###################################################################\n",
    "\n",
    "mm_data['coach_win_diff'] = mm_data['team1_pt_career_school_wins'] - mm_data['team2_pt_career_school_wins']"
   ]
  },
  {
   "cell_type": "code",
   "execution_count": 45,
   "metadata": {},
   "outputs": [
    {
     "data": {
      "text/html": [
       "<div>\n",
       "<style scoped>\n",
       "    .dataframe tbody tr th:only-of-type {\n",
       "        vertical-align: middle;\n",
       "    }\n",
       "\n",
       "    .dataframe tbody tr th {\n",
       "        vertical-align: top;\n",
       "    }\n",
       "\n",
       "    .dataframe thead th {\n",
       "        text-align: right;\n",
       "    }\n",
       "</style>\n",
       "<table border=\"1\" class=\"dataframe\">\n",
       "  <thead>\n",
       "    <tr style=\"text-align: right;\">\n",
       "      <th></th>\n",
       "      <th>game_id</th>\n",
       "      <th>exp_win1</th>\n",
       "      <th>exp_win2</th>\n",
       "      <th>team2_score</th>\n",
       "      <th>team1_score</th>\n",
       "      <th>diff_dist</th>\n",
       "      <th>team1_log5</th>\n",
       "      <th>team1_id</th>\n",
       "      <th>team2_id</th>\n",
       "      <th>seed_diff</th>\n",
       "      <th>team_win_diff</th>\n",
       "      <th>coach_win_diff</th>\n",
       "    </tr>\n",
       "  </thead>\n",
       "  <tbody>\n",
       "    <tr>\n",
       "      <th>0</th>\n",
       "      <td>2019-1192.0-1341.0</td>\n",
       "      <td>0.389061</td>\n",
       "      <td>0.382990</td>\n",
       "      <td>76</td>\n",
       "      <td>82</td>\n",
       "      <td>-648.033425</td>\n",
       "      <td>0.506403</td>\n",
       "      <td>1192.0</td>\n",
       "      <td>1341.0</td>\n",
       "      <td>0</td>\n",
       "      <td>1.0</td>\n",
       "      <td>24.0</td>\n",
       "    </tr>\n",
       "    <tr>\n",
       "      <th>1</th>\n",
       "      <td>2019-1125.0-1396.0</td>\n",
       "      <td>0.800207</td>\n",
       "      <td>0.738939</td>\n",
       "      <td>70</td>\n",
       "      <td>81</td>\n",
       "      <td>-307.876634</td>\n",
       "      <td>0.585922</td>\n",
       "      <td>1125.0</td>\n",
       "      <td>1396.0</td>\n",
       "      <td>0</td>\n",
       "      <td>-4.0</td>\n",
       "      <td>145.0</td>\n",
       "    </tr>\n",
       "    <tr>\n",
       "      <th>2</th>\n",
       "      <td>2019-1295.0-1300.0</td>\n",
       "      <td>0.415885</td>\n",
       "      <td>0.208404</td>\n",
       "      <td>74</td>\n",
       "      <td>78</td>\n",
       "      <td>663.316546</td>\n",
       "      <td>0.730051</td>\n",
       "      <td>1295.0</td>\n",
       "      <td>1300.0</td>\n",
       "      <td>0</td>\n",
       "      <td>-1.0</td>\n",
       "      <td>-93.0</td>\n",
       "    </tr>\n",
       "    <tr>\n",
       "      <th>3</th>\n",
       "      <td>2019-1113.0-1385.0</td>\n",
       "      <td>0.774944</td>\n",
       "      <td>0.721882</td>\n",
       "      <td>65</td>\n",
       "      <td>74</td>\n",
       "      <td>1676.167033</td>\n",
       "      <td>0.570190</td>\n",
       "      <td>1113.0</td>\n",
       "      <td>1385.0</td>\n",
       "      <td>0</td>\n",
       "      <td>-2.0</td>\n",
       "      <td>14.0</td>\n",
       "    </tr>\n",
       "    <tr>\n",
       "      <th>4</th>\n",
       "      <td>2019-1278.0-1257.0</td>\n",
       "      <td>0.833312</td>\n",
       "      <td>0.913200</td>\n",
       "      <td>76</td>\n",
       "      <td>86</td>\n",
       "      <td>-391.001293</td>\n",
       "      <td>0.322116</td>\n",
       "      <td>1278.0</td>\n",
       "      <td>1257.0</td>\n",
       "      <td>-3</td>\n",
       "      <td>-1.0</td>\n",
       "      <td>91.0</td>\n",
       "    </tr>\n",
       "  </tbody>\n",
       "</table>\n",
       "</div>"
      ],
      "text/plain": [
       "              game_id  exp_win1  exp_win2  team2_score  team1_score  \\\n",
       "0  2019-1192.0-1341.0  0.389061  0.382990           76           82   \n",
       "1  2019-1125.0-1396.0  0.800207  0.738939           70           81   \n",
       "2  2019-1295.0-1300.0  0.415885  0.208404           74           78   \n",
       "3  2019-1113.0-1385.0  0.774944  0.721882           65           74   \n",
       "4  2019-1278.0-1257.0  0.833312  0.913200           76           86   \n",
       "\n",
       "     diff_dist  team1_log5  team1_id  team2_id  seed_diff  team_win_diff  \\\n",
       "0  -648.033425    0.506403    1192.0    1341.0          0            1.0   \n",
       "1  -307.876634    0.585922    1125.0    1396.0          0           -4.0   \n",
       "2   663.316546    0.730051    1295.0    1300.0          0           -1.0   \n",
       "3  1676.167033    0.570190    1113.0    1385.0          0           -2.0   \n",
       "4  -391.001293    0.322116    1278.0    1257.0         -3           -1.0   \n",
       "\n",
       "   coach_win_diff  \n",
       "0            24.0  \n",
       "1           145.0  \n",
       "2           -93.0  \n",
       "3            14.0  \n",
       "4            91.0  "
      ]
     },
     "execution_count": 45,
     "metadata": {},
     "output_type": "execute_result"
    }
   ],
   "source": [
    "#################################################################################\n",
    "#Displaying another head of relevant data to include previous matchup team scores \n",
    "# seeding difference,team win difference, & newly calculated coach win difference\n",
    "#################################################################################\n",
    "mm_data[['game_id','exp_win1','exp_win2','team2_score','team1_score','diff_dist','team1_log5','team1_id','team2_id','seed_diff', 'team_win_diff', 'coach_win_diff']].head()"
   ]
  },
  {
   "cell_type": "markdown",
   "metadata": {},
   "source": [
    "### <font color = green> Splitting the dataset for subsequent model training:"
   ]
  },
  {
   "cell_type": "code",
   "execution_count": 92,
   "metadata": {},
   "outputs": [],
   "source": [
    "#########################\n",
    "# Dropping missing values\n",
    "#########################\n",
    "mm_data.dropna(subset=['team1_log5'], inplace=True)"
   ]
  },
  {
   "cell_type": "code",
   "execution_count": 93,
   "metadata": {},
   "outputs": [],
   "source": [
    "###############################################\n",
    "# Assigning & determing if team 1 won the match\n",
    "###############################################\n",
    "mm_data['team1_win'] = (mm_data['team1_score']>mm_data['team2_score']).astype(int)"
   ]
  },
  {
   "cell_type": "code",
   "execution_count": 94,
   "metadata": {},
   "outputs": [],
   "source": [
    "###############################################\n",
    "# Creating user defined function to randomly \n",
    "# shuffle the dataset, creating random matchups\n",
    "###############################################\n",
    "\n",
    "np.random.seed(0)\n",
    "\n",
    "def shuffle(df):     \n",
    "    df = df.reindex(np.random.permutation(df.index)).copy()\n",
    "    return df.reset_index(drop=True)\n",
    "random_indices = random.sample(range(len(mm_data)), int(len(mm_data)/2))"
   ]
  },
  {
   "cell_type": "code",
   "execution_count": 95,
   "metadata": {},
   "outputs": [],
   "source": [
    "# new dataframe creation based on relevant predictors\n",
    "mm_data_1 = mm_data[~mm_data.index.isin(random_indices)][['game_id','season','team1_win','exp_win1','exp_win2','team2_score',\n",
    "                                                      'team1_score','team1_log5','team1_id','team2_id','seed_diff','team_win_diff', 'coach_win_diff']].reset_index(drop=True)\n",
    "mm_data_2 = mm_data[mm_data.index.isin(random_indices)][['game_id','season','team1_win','exp_win1','exp_win2','team2_score',\n",
    "                                    'team1_score','team1_log5','team1_id','team2_id','seed_diff','team_win_diff', 'coach_win_diff']].reset_index(drop=True)"
   ]
  },
  {
   "cell_type": "code",
   "execution_count": 96,
   "metadata": {},
   "outputs": [],
   "source": [
    "# new dataframe & variable assignment\n",
    "mm_data_2['team1_win'] = mm_data_2['team1_win'].apply(lambda x: 1 if x==0 else 0)\n",
    "mm_data_2['team1_log5'] = 1-mm_data_2['team1_log5']\n",
    "mm_data['seed_diff'] = mm_data['seed_diff']*-1\n",
    "mm_data['team_win_diff'] = mm_data['team_win_diff']*-1\n",
    "mm_data['coach_win_diff'] = mm_data['coach_win_diff']*-1\n",
    "mm_data_2.columns = ['game_id', 'season', 'team1_win', 'exp_win2', 'exp_win1', 'team1_score', 'team2_score', 'team1_log5',\n",
    " 'team2_id', 'team1_id','seed_diff','team_win_diff', 'coach_win_diff']"
   ]
  },
  {
   "cell_type": "code",
   "execution_count": 97,
   "metadata": {},
   "outputs": [],
   "source": [
    "# combining results from dataframe 1 and dataframe 2 into one training data frame\n",
    "mm_train = pd.concat([mm_data_2, mm_data_1])"
   ]
  },
  {
   "cell_type": "code",
   "execution_count": 98,
   "metadata": {},
   "outputs": [],
   "source": [
    "mm_data_2019 = mm_train[mm_train['season'] == 2019].reset_index(drop=True)\n",
    "mm_data_else =  mm_train[mm_train['season'] != 2019].reset_index(drop=True)"
   ]
  },
  {
   "cell_type": "markdown",
   "metadata": {},
   "source": [
    "### <font color = teal> Intial Calculation Checks:"
   ]
  },
  {
   "cell_type": "code",
   "execution_count": 99,
   "metadata": {},
   "outputs": [
    {
     "data": {
      "text/plain": [
       "team1_win\n",
       "0    0.386815\n",
       "1    0.627296\n",
       "Name: team1_log5, dtype: float64"
      ]
     },
     "execution_count": 99,
     "metadata": {},
     "output_type": "execute_result"
    }
   ],
   "source": [
    "# Log 5 check\n",
    "mm_data_else.groupby('team1_win')['team1_log5'].mean()"
   ]
  },
  {
   "cell_type": "code",
   "execution_count": 100,
   "metadata": {},
   "outputs": [
    {
     "data": {
      "text/plain": [
       "team1_win\n",
       "0    3.537071\n",
       "1    3.817185\n",
       "Name: seed_diff, dtype: float64"
      ]
     },
     "execution_count": 100,
     "metadata": {},
     "output_type": "execute_result"
    }
   ],
   "source": [
    "# Seed differential check\n",
    "mm_data_else.groupby('team1_win')['seed_diff'].mean()"
   ]
  },
  {
   "cell_type": "code",
   "execution_count": 60,
   "metadata": {},
   "outputs": [],
   "source": [
    "# Distance differential check\n",
    "# mm_data_else.groupby('team1_win')['diff_dist'].mean()"
   ]
  },
  {
   "cell_type": "markdown",
   "metadata": {},
   "source": [
    "### <font color = teal> Logistic Regression Model Training:"
   ]
  },
  {
   "cell_type": "code",
   "execution_count": 101,
   "metadata": {},
   "outputs": [
    {
     "data": {
      "text/plain": [
       "LogisticRegression(C=1.0, class_weight=None, dual=False, fit_intercept=True,\n",
       "                   intercept_scaling=1, l1_ratio=None, max_iter=100,\n",
       "                   multi_class='auto', n_jobs=None, penalty='l2',\n",
       "                   random_state=None, solver='lbfgs', tol=0.0001, verbose=0,\n",
       "                   warm_start=False)"
      ]
     },
     "execution_count": 101,
     "metadata": {},
     "output_type": "execute_result"
    }
   ],
   "source": [
    "scaler = StandardScaler()\n",
    "mm_train_scaled = scaler.fit_transform(mm_data_else[['team1_log5','seed_diff','team_win_diff', 'coach_win_diff']])\n",
    "logit = LogisticRegression()\n",
    "logit.fit(mm_train_scaled, mm_data_else['team1_win'])"
   ]
  },
  {
   "cell_type": "code",
   "execution_count": 102,
   "metadata": {},
   "outputs": [
    {
     "name": "stdout",
     "output_type": "stream",
     "text": [
      "Optimization terminated successfully.\n",
      "         Current function value: 0.665983\n",
      "         Iterations 4\n"
     ]
    },
    {
     "data": {
      "text/html": [
       "<table class=\"simpletable\">\n",
       "<caption>Logit Regression Results</caption>\n",
       "<tr>\n",
       "  <th>Dep. Variable:</th>       <td>team1_win</td>    <th>  No. Observations:  </th>  <td>  1100</td>  \n",
       "</tr>\n",
       "<tr>\n",
       "  <th>Model:</th>                 <td>Logit</td>      <th>  Df Residuals:      </th>  <td>  1096</td>  \n",
       "</tr>\n",
       "<tr>\n",
       "  <th>Method:</th>                 <td>MLE</td>       <th>  Df Model:          </th>  <td>     3</td>  \n",
       "</tr>\n",
       "<tr>\n",
       "  <th>Date:</th>            <td>Tue, 23 Feb 2021</td> <th>  Pseudo R-squ.:     </th>  <td>0.03917</td> \n",
       "</tr>\n",
       "<tr>\n",
       "  <th>Time:</th>                <td>16:51:08</td>     <th>  Log-Likelihood:    </th> <td> -732.58</td> \n",
       "</tr>\n",
       "<tr>\n",
       "  <th>converged:</th>             <td>True</td>       <th>  LL-Null:           </th> <td> -762.45</td> \n",
       "</tr>\n",
       "<tr>\n",
       "  <th>Covariance Type:</th>     <td>nonrobust</td>    <th>  LLR p-value:       </th> <td>6.721e-13</td>\n",
       "</tr>\n",
       "</table>\n",
       "<table class=\"simpletable\">\n",
       "<tr>\n",
       "         <td></td>           <th>coef</th>     <th>std err</th>      <th>z</th>      <th>P>|z|</th>  <th>[0.025</th>    <th>0.975]</th>  \n",
       "</tr>\n",
       "<tr>\n",
       "  <th>team1_log5</th>     <td>    0.9307</td> <td>    0.127</td> <td>    7.323</td> <td> 0.000</td> <td>    0.682</td> <td>    1.180</td>\n",
       "</tr>\n",
       "<tr>\n",
       "  <th>seed_diff</th>      <td>   -0.0311</td> <td>    0.010</td> <td>   -3.155</td> <td> 0.002</td> <td>   -0.050</td> <td>   -0.012</td>\n",
       "</tr>\n",
       "<tr>\n",
       "  <th>team_win_diff</th>  <td>   -0.0008</td> <td>    0.001</td> <td>   -0.642</td> <td> 0.521</td> <td>   -0.003</td> <td>    0.002</td>\n",
       "</tr>\n",
       "<tr>\n",
       "  <th>coach_win_diff</th> <td>    0.0003</td> <td>    0.000</td> <td>    1.156</td> <td> 0.248</td> <td>   -0.000</td> <td>    0.001</td>\n",
       "</tr>\n",
       "</table>"
      ],
      "text/plain": [
       "<class 'statsmodels.iolib.summary.Summary'>\n",
       "\"\"\"\n",
       "                           Logit Regression Results                           \n",
       "==============================================================================\n",
       "Dep. Variable:              team1_win   No. Observations:                 1100\n",
       "Model:                          Logit   Df Residuals:                     1096\n",
       "Method:                           MLE   Df Model:                            3\n",
       "Date:                Tue, 23 Feb 2021   Pseudo R-squ.:                 0.03917\n",
       "Time:                        16:51:08   Log-Likelihood:                -732.58\n",
       "converged:                       True   LL-Null:                       -762.45\n",
       "Covariance Type:            nonrobust   LLR p-value:                 6.721e-13\n",
       "==================================================================================\n",
       "                     coef    std err          z      P>|z|      [0.025      0.975]\n",
       "----------------------------------------------------------------------------------\n",
       "team1_log5         0.9307      0.127      7.323      0.000       0.682       1.180\n",
       "seed_diff         -0.0311      0.010     -3.155      0.002      -0.050      -0.012\n",
       "team_win_diff     -0.0008      0.001     -0.642      0.521      -0.003       0.002\n",
       "coach_win_diff     0.0003      0.000      1.156      0.248      -0.000       0.001\n",
       "==================================================================================\n",
       "\"\"\""
      ]
     },
     "execution_count": 102,
     "metadata": {},
     "output_type": "execute_result"
    }
   ],
   "source": [
    "smlogit = sm.Logit(mm_data_else['team1_win'], mm_data_else[['team1_log5','seed_diff','team_win_diff', 'coach_win_diff']]).fit()\n",
    "smlogit.summary()"
   ]
  },
  {
   "cell_type": "code",
   "execution_count": 103,
   "metadata": {},
   "outputs": [],
   "source": [
    "mm_data_2019['prob'] = logit.predict_proba(scaler.fit_transform(mm_data_2019[['team1_log5','seed_diff','team_win_diff', 'coach_win_diff']]))[:,1]\n",
    "mm_data_2019['prediction'] = logit.predict(scaler.fit_transform(mm_data_2019[['team1_log5','seed_diff','team_win_diff','coach_win_diff']]))"
   ]
  },
  {
   "cell_type": "code",
   "execution_count": 104,
   "metadata": {},
   "outputs": [
    {
     "data": {
      "text/html": [
       "<div>\n",
       "<style scoped>\n",
       "    .dataframe tbody tr th:only-of-type {\n",
       "        vertical-align: middle;\n",
       "    }\n",
       "\n",
       "    .dataframe tbody tr th {\n",
       "        vertical-align: top;\n",
       "    }\n",
       "\n",
       "    .dataframe thead th {\n",
       "        text-align: right;\n",
       "    }\n",
       "</style>\n",
       "<table border=\"1\" class=\"dataframe\">\n",
       "  <thead>\n",
       "    <tr style=\"text-align: right;\">\n",
       "      <th></th>\n",
       "      <th>team1_log5</th>\n",
       "      <th>team1_win</th>\n",
       "      <th>prob</th>\n",
       "      <th>prediction</th>\n",
       "    </tr>\n",
       "  </thead>\n",
       "  <tbody>\n",
       "    <tr>\n",
       "      <th>0</th>\n",
       "      <td>0.493597</td>\n",
       "      <td>0</td>\n",
       "      <td>0.472781</td>\n",
       "      <td>0</td>\n",
       "    </tr>\n",
       "    <tr>\n",
       "      <th>1</th>\n",
       "      <td>0.414078</td>\n",
       "      <td>0</td>\n",
       "      <td>0.401501</td>\n",
       "      <td>0</td>\n",
       "    </tr>\n",
       "    <tr>\n",
       "      <th>2</th>\n",
       "      <td>0.269949</td>\n",
       "      <td>0</td>\n",
       "      <td>0.235250</td>\n",
       "      <td>0</td>\n",
       "    </tr>\n",
       "    <tr>\n",
       "      <th>3</th>\n",
       "      <td>0.677884</td>\n",
       "      <td>0</td>\n",
       "      <td>0.688065</td>\n",
       "      <td>1</td>\n",
       "    </tr>\n",
       "    <tr>\n",
       "      <th>4</th>\n",
       "      <td>0.480190</td>\n",
       "      <td>0</td>\n",
       "      <td>0.477456</td>\n",
       "      <td>0</td>\n",
       "    </tr>\n",
       "    <tr>\n",
       "      <th>5</th>\n",
       "      <td>0.499349</td>\n",
       "      <td>0</td>\n",
       "      <td>0.444961</td>\n",
       "      <td>0</td>\n",
       "    </tr>\n",
       "    <tr>\n",
       "      <th>6</th>\n",
       "      <td>0.198387</td>\n",
       "      <td>0</td>\n",
       "      <td>0.202425</td>\n",
       "      <td>0</td>\n",
       "    </tr>\n",
       "    <tr>\n",
       "      <th>7</th>\n",
       "      <td>0.169262</td>\n",
       "      <td>0</td>\n",
       "      <td>0.174391</td>\n",
       "      <td>0</td>\n",
       "    </tr>\n",
       "    <tr>\n",
       "      <th>8</th>\n",
       "      <td>0.046460</td>\n",
       "      <td>0</td>\n",
       "      <td>0.110129</td>\n",
       "      <td>0</td>\n",
       "    </tr>\n",
       "    <tr>\n",
       "      <th>9</th>\n",
       "      <td>0.031185</td>\n",
       "      <td>0</td>\n",
       "      <td>0.119071</td>\n",
       "      <td>0</td>\n",
       "    </tr>\n",
       "  </tbody>\n",
       "</table>\n",
       "</div>"
      ],
      "text/plain": [
       "   team1_log5  team1_win      prob  prediction\n",
       "0    0.493597          0  0.472781           0\n",
       "1    0.414078          0  0.401501           0\n",
       "2    0.269949          0  0.235250           0\n",
       "3    0.677884          0  0.688065           1\n",
       "4    0.480190          0  0.477456           0\n",
       "5    0.499349          0  0.444961           0\n",
       "6    0.198387          0  0.202425           0\n",
       "7    0.169262          0  0.174391           0\n",
       "8    0.046460          0  0.110129           0\n",
       "9    0.031185          0  0.119071           0"
      ]
     },
     "execution_count": 104,
     "metadata": {},
     "output_type": "execute_result"
    }
   ],
   "source": [
    "mm_data_2019[['team1_log5','team1_win','prob','prediction']].head(10)"
   ]
  },
  {
   "cell_type": "code",
   "execution_count": 105,
   "metadata": {},
   "outputs": [
    {
     "data": {
      "text/plain": [
       "team1_win\n",
       "0    0.318946\n",
       "1    0.638093\n",
       "Name: prob, dtype: float64"
      ]
     },
     "execution_count": 105,
     "metadata": {},
     "output_type": "execute_result"
    }
   ],
   "source": [
    "mm_data_2019.groupby('team1_win')['prob'].mean()"
   ]
  },
  {
   "cell_type": "code",
   "execution_count": 106,
   "metadata": {},
   "outputs": [
    {
     "data": {
      "text/plain": [
       "<matplotlib.axes._subplots.AxesSubplot at 0x1d6d4299188>"
      ]
     },
     "execution_count": 106,
     "metadata": {},
     "output_type": "execute_result"
    },
    {
     "data": {
      "image/png": "[encoded data removed]",
      "text/plain": [
       "<Figure size 432x288 with 1 Axes>"
      ]
     },
     "metadata": {},
     "output_type": "display_data"
    }
   ],
   "source": [
    "mm_data_2019.plot(kind='scatter', x='prob',y='team1_log5')"
   ]
  },
  {
   "cell_type": "code",
   "execution_count": 107,
   "metadata": {},
   "outputs": [
    {
     "data": {
      "text/plain": [
       "array([[25,  5],\n",
       "       [12, 25]], dtype=int64)"
      ]
     },
     "execution_count": 107,
     "metadata": {},
     "output_type": "execute_result"
    }
   ],
   "source": [
    "confusion_matrix(mm_data_2019['team1_win'], mm_data_2019['prediction'])"
   ]
  },
  {
   "cell_type": "code",
   "execution_count": 108,
   "metadata": {},
   "outputs": [
    {
     "data": {
      "text/plain": [
       "0.746268656716418"
      ]
     },
     "execution_count": 108,
     "metadata": {},
     "output_type": "execute_result"
    }
   ],
   "source": [
    "accuracy_score(mm_data_2019['team1_win'], mm_data_2019['prediction'],)"
   ]
  },
  {
   "cell_type": "code",
   "execution_count": 109,
   "metadata": {},
   "outputs": [
    {
     "data": {
      "text/plain": [
       "0.8333333333333334"
      ]
     },
     "execution_count": 109,
     "metadata": {},
     "output_type": "execute_result"
    }
   ],
   "source": [
    "precision_score(mm_data_2019['team1_win'], mm_data_2019['prediction'])"
   ]
  },
  {
   "cell_type": "code",
   "execution_count": 110,
   "metadata": {},
   "outputs": [
    {
     "data": {
      "text/plain": [
       "0.6756756756756757"
      ]
     },
     "execution_count": 110,
     "metadata": {},
     "output_type": "execute_result"
    }
   ],
   "source": [
    "recall_score(mm_data_2019['team1_win'], mm_data_2019['prediction'])"
   ]
  },
  {
   "cell_type": "code",
   "execution_count": 111,
   "metadata": {},
   "outputs": [
    {
     "data": {
      "text/plain": [
       "0.746268656716418"
      ]
     },
     "execution_count": 111,
     "metadata": {},
     "output_type": "execute_result"
    }
   ],
   "source": [
    "f1_score(mm_data_2019['team1_win'], mm_data_2019['prediction'])"
   ]
  },
  {
   "cell_type": "code",
   "execution_count": 112,
   "metadata": {},
   "outputs": [
    {
     "data": {
      "text/plain": [
       "0.4887038071323596"
      ]
     },
     "execution_count": 112,
     "metadata": {},
     "output_type": "execute_result"
    }
   ],
   "source": [
    "log_loss(mm_data_2019['team1_win'].values, mm_data_2019['prob'].values)"
   ]
  },
  {
   "cell_type": "code",
   "execution_count": 113,
   "metadata": {},
   "outputs": [],
   "source": [
    "def plot_roc(fpr, tpr, roc_auc):\n",
    "    \"\"\"Plots the ROC curve for the win probability model along with\n",
    "    the AUC.\n",
    "    \"\"\"\n",
    "    fig, ax = plt.subplots()\n",
    "    ax.set(title='Receiver Operating Characteristic',\n",
    "           xlim=[0, 1], ylim=[0, 1], xlabel='False Positive Rate',\n",
    "           ylabel='True Positive Rate')\n",
    "    ax.plot(fpr, tpr, 'b', label='AUC = %0.2f' % roc_auc)\n",
    "    ax.plot([0, 1], [0, 1], 'k--')\n",
    "    ax.legend(loc='lower right')"
   ]
  },
  {
   "cell_type": "code",
   "execution_count": 114,
   "metadata": {},
   "outputs": [
    {
     "data": {
      "image/png": "[encoded data removed]",
      "text/plain": [
       "<Figure size 432x288 with 1 Axes>"
      ]
     },
     "metadata": {},
     "output_type": "display_data"
    }
   ],
   "source": [
    "fpr, tpr, thresholds = roc_curve(mm_data_2019['team1_win'].values, mm_data_2019['prob'].values)\n",
    "roc_auc = auc(fpr, tpr)\n",
    "plot_roc(fpr, tpr, roc_auc)"
   ]
  },
  {
   "cell_type": "code",
   "execution_count": 115,
   "metadata": {},
   "outputs": [
    {
     "data": {
      "text/plain": [
       "0.8486486486486486"
      ]
     },
     "execution_count": 115,
     "metadata": {},
     "output_type": "execute_result"
    }
   ],
   "source": [
    "roc_auc_score(mm_data_2019['team1_win'].values, mm_data_2019['prob'].values)"
   ]
  },
  {
   "cell_type": "markdown",
   "metadata": {},
   "source": [
    "### <font color = green> Creating Submission File: "
   ]
  },
  {
   "cell_type": "code",
   "execution_count": 39,
   "metadata": {},
   "outputs": [
    {
     "data": {
      "text/html": [
       "<div>\n",
       "<style scoped>\n",
       "    .dataframe tbody tr th:only-of-type {\n",
       "        vertical-align: middle;\n",
       "    }\n",
       "\n",
       "    .dataframe tbody tr th {\n",
       "        vertical-align: top;\n",
       "    }\n",
       "\n",
       "    .dataframe thead th {\n",
       "        text-align: right;\n",
       "    }\n",
       "</style>\n",
       "<table border=\"1\" class=\"dataframe\">\n",
       "  <thead>\n",
       "    <tr style=\"text-align: right;\">\n",
       "      <th></th>\n",
       "      <th>game_id</th>\n",
       "      <th>prob</th>\n",
       "    </tr>\n",
       "  </thead>\n",
       "  <tbody>\n",
       "    <tr>\n",
       "      <th>0</th>\n",
       "      <td>2019-1125.0-1396.0</td>\n",
       "      <td>0.389448</td>\n",
       "    </tr>\n",
       "    <tr>\n",
       "      <th>1</th>\n",
       "      <td>2019-1295.0-1300.0</td>\n",
       "      <td>0.264693</td>\n",
       "    </tr>\n",
       "    <tr>\n",
       "      <th>2</th>\n",
       "      <td>2019-1437.0-1388.0</td>\n",
       "      <td>0.408716</td>\n",
       "    </tr>\n",
       "    <tr>\n",
       "      <th>3</th>\n",
       "      <td>2019-1196.0-1305.0</td>\n",
       "      <td>0.483820</td>\n",
       "    </tr>\n",
       "    <tr>\n",
       "      <th>4</th>\n",
       "      <td>2019-1242.0-1318.0</td>\n",
       "      <td>0.161476</td>\n",
       "    </tr>\n",
       "  </tbody>\n",
       "</table>\n",
       "</div>"
      ],
      "text/plain": [
       "              game_id      prob\n",
       "0  2019-1125.0-1396.0  0.389448\n",
       "1  2019-1295.0-1300.0  0.264693\n",
       "2  2019-1437.0-1388.0  0.408716\n",
       "3  2019-1196.0-1305.0  0.483820\n",
       "4  2019-1242.0-1318.0  0.161476"
      ]
     },
     "execution_count": 39,
     "metadata": {},
     "output_type": "execute_result"
    }
   ],
   "source": [
    "mm_data_2019[['game_id','prob']].head()"
   ]
  },
  {
   "cell_type": "code",
   "execution_count": 40,
   "metadata": {},
   "outputs": [],
   "source": [
    "mm_data_2019['prob'] = .5"
   ]
  },
  {
   "cell_type": "code",
   "execution_count": 41,
   "metadata": {},
   "outputs": [],
   "source": [
    "mm_data_2019[['game_id','prob']].to_csv(\"example_submission.csv\", index=False)"
   ]
  }
 ],
 "metadata": {
  "kernelspec": {
   "display_name": "Python 3",
   "language": "python",
   "name": "python3"
  },
  "language_info": {
   "codemirror_mode": {
    "name": "ipython",
    "version": 3
   },
   "file_extension": ".py",
   "mimetype": "text/x-python",
   "name": "python",
   "nbconvert_exporter": "python",
   "pygments_lexer": "ipython3",
   "version": "3.7.6"
  }
 },
 "nbformat": 4,
 "nbformat_minor": 4
}
